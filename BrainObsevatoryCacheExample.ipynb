{
 "cells": [
  {
   "cell_type": "markdown",
   "metadata": {},
   "source": [
    "Step by step demonstration of all functions of the BrainOvservatoryCache Class"
   ]
  },
  {
   "cell_type": "markdown",
   "metadata": {},
   "source": [
    "First Get the proper path to store the manifest and metadata and the downloade nwb files"
   ]
  },
  {
   "cell_type": "code",
   "execution_count": 1,
   "metadata": {},
   "outputs": [],
   "source": [
    "from pathlib import Path\n",
    "data_folder = Path(\"C:/Users/Samuel/Documents/PythonCodeData/BrainObservatory\")"
   ]
  },
  {
   "cell_type": "markdown",
   "metadata": {},
   "source": [
    "Next create the manifest and the folder"
   ]
  },
  {
   "cell_type": "code",
   "execution_count": 2,
   "metadata": {},
   "outputs": [
    {
     "ename": "ModuleNotFoundError",
     "evalue": "No module named 'allensdk'",
     "output_type": "error",
     "traceback": [
      "\u001b[1;31m---------------------------------------------------------------------------\u001b[0m",
      "\u001b[1;31mModuleNotFoundError\u001b[0m                       Traceback (most recent call last)",
      "\u001b[1;32m<ipython-input-2-599c29eb658d>\u001b[0m in \u001b[0;36m<module>\u001b[1;34m\u001b[0m\n\u001b[1;32m----> 1\u001b[1;33m \u001b[1;32mfrom\u001b[0m \u001b[0mallensdk\u001b[0m\u001b[1;33m.\u001b[0m\u001b[0mcore\u001b[0m\u001b[1;33m.\u001b[0m\u001b[0mbrain_observatory_cache\u001b[0m \u001b[1;32mimport\u001b[0m \u001b[0mBrainObservatoryCache\u001b[0m\u001b[1;33m\u001b[0m\u001b[1;33m\u001b[0m\u001b[0m\n\u001b[0m\u001b[0;32m      2\u001b[0m \u001b[1;32mimport\u001b[0m \u001b[0mpprint\u001b[0m\u001b[1;33m\u001b[0m\u001b[1;33m\u001b[0m\u001b[0m\n\u001b[0;32m      3\u001b[0m \u001b[1;31m# This class uses a 'manifest' to keep track of downloaded data and metadata.\u001b[0m\u001b[1;33m\u001b[0m\u001b[1;33m\u001b[0m\u001b[1;33m\u001b[0m\u001b[0m\n\u001b[0;32m      4\u001b[0m \u001b[1;31m# All downloaded files will be stored relative to the directory holding the manifest\u001b[0m\u001b[1;33m\u001b[0m\u001b[1;33m\u001b[0m\u001b[1;33m\u001b[0m\u001b[0m\n\u001b[0;32m      5\u001b[0m \u001b[1;31m# file.  If 'manifest_file' is a relative path (as it is below), it will be\u001b[0m\u001b[1;33m\u001b[0m\u001b[1;33m\u001b[0m\u001b[1;33m\u001b[0m\u001b[0m\n",
      "\u001b[1;31mModuleNotFoundError\u001b[0m: No module named 'allensdk'"
     ]
    }
   ],
   "source": [
    "from allensdk.core.brain_observatory_cache import BrainObservatoryCache\n",
    "import pprint\n",
    "# This class uses a 'manifest' to keep track of downloaded data and metadata.  \n",
    "# All downloaded files will be stored relative to the directory holding the manifest\n",
    "# file.  If 'manifest_file' is a relative path (as it is below), it will be \n",
    "# saved relative to your working directory.  It can also be an absolute path.\n",
    "boc = BrainObservatoryCache(manifest_file=data_folder/'boc/manifest.json')"
   ]
  },
  {
   "cell_type": "code",
   "execution_count": null,
   "metadata": {},
   "outputs": [],
   "source": [
    "import pprint"
   ]
  },
  {
   "cell_type": "markdown",
   "metadata": {},
   "source": [
    "We can rebuild the manifest in another folder. This does not creat new folders"
   ]
  },
  {
   "cell_type": "code",
   "execution_count": null,
   "metadata": {},
   "outputs": [],
   "source": [
    "boc.build_manifest(data_folder/'boc/manifest2.json')"
   ]
  },
  {
   "cell_type": "markdown",
   "metadata": {},
   "source": [
    "Now lets get all the info on the different parameters from the observatory"
   ]
  },
  {
   "cell_type": "code",
   "execution_count": null,
   "metadata": {},
   "outputs": [],
   "source": [
    "cre=boc.get_all_cre_lines() #global information about the databse to have it in lists\n",
    "area=boc.get_all_targeted_structures() #global information about the databse to have it in lists\n",
    "depth=boc.get_all_imaging_depths()#global information about the databse to have it in lists\n",
    "gcamp=boc.get_all_reporter_lines()#global information about the databse to have it in lists GCAMP used\n",
    "sessions=boc.get_all_session_types()#global information about the databse to have it in lists\n",
    "stimuli=boc.get_all_stimuli()#global information about the databse to have it in lists"
   ]
  },
  {
   "cell_type": "markdown",
   "metadata": {},
   "source": [
    "Not lets see those lists"
   ]
  },
  {
   "cell_type": "code",
   "execution_count": null,
   "metadata": {},
   "outputs": [],
   "source": [
    "print(cre)\n",
    "print(area)\n",
    "print(depth)\n",
    "print(gcamp)\n",
    "print(sessions)\n",
    "print(stimuli)"
   ]
  },
  {
   "cell_type": "markdown",
   "metadata": {},
   "source": [
    "Not lets get some container with different filters, and change some of the parameters\n",
    "First just using one filter. By the way some of the previous functions already donlades the experiments containes and experiemnst metadata\n"
   ]
  },
  {
   "cell_type": "code",
   "execution_count": null,
   "metadata": {},
   "outputs": [],
   "source": [
    "visP=boc.get_experiment_containers(targeted_structures=['VISp'])\n",
    "pprint.pprint(visP[3])\n",
    "print(len(visP))"
   ]
  },
  {
   "cell_type": "markdown",
   "metadata": {},
   "source": [
    "This has not added any new file lets try the saving option. I thinks is yjust saving a smaller filter json file \n",
    "It saves the whole container metadata again\n",
    "Remember I am in the path of the code, not of the data so ll paths have to be absolute here"
   ]
  },
  {
   "cell_type": "code",
   "execution_count": null,
   "metadata": {},
   "outputs": [],
   "source": [
    "visP=boc.get_experiment_containers(file_name='boc/test.json', targeted_structures=['VISp'])\n",
    "pprint.pprint(visP[3])\n",
    "print(len(visP))"
   ]
  },
  {
   "cell_type": "markdown",
   "metadata": {},
   "source": [
    "Now lest play with the simplify option. It gets informatio0n that is relevant form other databases and more "
   ]
  },
  {
   "cell_type": "code",
   "execution_count": null,
   "metadata": {},
   "outputs": [],
   "source": [
    "visP=boc.get_experiment_containers(targeted_structures=['VISp'], simple=False)\n",
    "pprint.pprint(visP[3])\n",
    "print(len(visP))"
   ]
  },
  {
   "cell_type": "markdown",
   "metadata": {},
   "source": [
    "No lets try to use two filters\n",
    "It seems you cna only filter by one. Lets try anotehr thing\n",
    "It allows, I just put a string instead of an integer\n",
    "It works in differnet ways, but cannot filter by stimuli or stimuli seesion, those are only ofr experimenst"
   ]
  },
  {
   "cell_type": "code",
   "execution_count": null,
   "metadata": {},
   "outputs": [],
   "source": [
    "visPLayer2=boc.get_experiment_containers(targeted_structures=['VISp'], imaging_depths=[175])\n",
    "pprint.pprint(visPLayer2[0])\n",
    "print(len(visPLayer2))"
   ]
  },
  {
   "cell_type": "markdown",
   "metadata": {},
   "source": [
    "Lets try getting all Id from the dictionary and parsing that with another parameter"
   ]
  },
  {
   "cell_type": "code",
   "execution_count": null,
   "metadata": {},
   "outputs": [],
   "source": [
    "visP=boc.get_experiment_containers(targeted_structures=['VISp'])\n",
    "contIDs=[cont['id']for cont in visP]\n",
    "contIDs\n",
    "visP[0]['id']"
   ]
  },
  {
   "cell_type": "code",
   "execution_count": null,
   "metadata": {},
   "outputs": [],
   "source": [
    "visPSpon=boc.get_experiment_containers(ids=contIDs, reporter_lines=['Ai148(TIT2L-GC6f-ICL-tTA2)', 'Ai162(TIT2L-GC6s-ICL-tTA2)'])\n",
    "pprint.pprint(visPSpon[0])\n",
    "print(len(visPSpon))"
   ]
  },
  {
   "cell_type": "markdown",
   "metadata": {},
   "source": [
    "That´s all I will get from the containers. A series of IDs to then restric experimet. But It can Actually be done directly on get experiments as we will se below\n",
    "Lets get first VISp. 275, PV cells.\n",
    "It gives 7 differnet animals tha were recorderd\n",
    "Lets get their containers IDS. One animal could have several conatiners"
   ]
  },
  {
   "cell_type": "code",
   "execution_count": null,
   "metadata": {},
   "outputs": [],
   "source": [
    "visPLy2PC=boc.get_experiment_containers(ids=contIDs, cre_lines=['Pvalb-IRES-Cre'], imaging_depths=[275], reporter_lines=['Ai162(TIT2L-GC6s-ICL-tTA2)'])\n",
    "pprint.pprint(visPLy2PC[0])\n",
    "print(len(visPLy2PC))\n",
    "PV_V1_L2_contIDs=[cont['id']for cont in visPLy2PC]\n"
   ]
  },
  {
   "cell_type": "markdown",
   "metadata": {},
   "source": [
    "Let´s try to find all coantainers for a single animal\n",
    "Now lets filter only those that have a givewn donor name\n",
    "So this animal has two experiments\n",
    "Basically the imaged two depths in this animal, but we dont know if they had the same visual stimuli. \n",
    "That we can only know parisng experiments"
   ]
  },
  {
   "cell_type": "code",
   "execution_count": null,
   "metadata": {},
   "outputs": [],
   "source": [
    "AllCont=boc.get_experiment_containers()\n",
    "len(AllCont)\n",
    "SingleDOnor_donorIDs=[cont['donor_name']for cont in AllCont if cont['donor_name']=='369498']\n",
    "SingleDOnor_contIDs=[cont['id']for cont in AllCont if cont['donor_name']=='369498']\n",
    "print(SingleDOnor_contIDs)\n",
    "print(SingleDOnor_donorIDs)\n",
    "SingleDOnorCOnt=boc.get_experiment_containers(ids=SingleDOnor_contIDs)\n",
    "pprint.pprint(SingleDOnorCOnt)"
   ]
  },
  {
   "cell_type": "markdown",
   "metadata": {},
   "source": [
    "NOw we move to extract the experiments from these two containers and try to get the same experiments without getting the container IDS\n",
    "As expected 6 experiments, three for each container\n",
    "We can get those experiments IDs\n",
    "And we can check th stimuli they recived, it can only be done for single experiments"
   ]
  },
  {
   "cell_type": "code",
   "execution_count": null,
   "metadata": {},
   "outputs": [],
   "source": [
    "exps=boc.get_ophys_experiments(experiment_container_ids=SingleDOnor_contIDs)\n",
    "pprint.pprint(exps)\n",
    "exps_ids=[exp['id'] for exp in exps]\n",
    "pprint.pprint(exps_ids)\n",
    "exp_stimuli=[boc.get_ophys_experiment_stimuli(i) for i in exps_ids ]\n",
    "pprint.pprint(exp_stimuli)\n",
    "exp_session=[exp['session_type'] for exp in exps ]\n",
    "pprint.pprint(exp_session)"
   ]
  },
  {
   "cell_type": "markdown",
   "metadata": {},
   "source": [
    "Now get the same directly with experiment arguments. First get the 7 pv videops I got at 275 and then the specific of the same donor. Finally I want to get all the other layers form all those 7 donors and get some list classified by \n",
    "    Session\n",
    "    Layer\n",
    "    Donor\n"
   ]
  },
  {
   "cell_type": "code",
   "execution_count": null,
   "metadata": {},
   "outputs": [],
   "source": [
    "my_area=['VISp']\n",
    "my_layer=[275]\n",
    "my_cre=['Pvalb-IRES-Cre']\n",
    "exps=boc.get_ophys_experiments(targeted_structures=my_area, imaging_depths=my_layer, cre_lines=my_cre)\n",
    "print(len(exps))\n",
    "exp_donor_ids=[exp['donor_name']for exp in exps]\n",
    "print(exp_donor_ids)\n",
    "\n",
    "list_set = set(exp_donor_ids) \n",
    "# convert the set to the list \n",
    "unique_list = (list(list_set)) \n",
    "print(unique_list)\n",
    "\n",
    "AllCont=boc.get_experiment_containers()\n",
    "ExpSingleDOnor_donorIDs=[cont['donor_name'] for cont in AllCont if any([cont['donor_name']==donname for donname in unique_list])]\n",
    "ExpSingleDOnor_ContIDs=[cont['id'] for cont in AllCont if any([cont['donor_name']==donname for donname in unique_list])]\n",
    "pprint.pprint(ExpSingleDOnor_donorIDs)\n",
    "\n",
    "Exp_Cont_Organized=[boc.get_experiment_containers(experiment_container_ids=ExpSingleDOnor_ContIDs)]\n",
    "donor_list=[]\n",
    "for i in unique_list:\n",
    "    donor_list.append(donor_conts=[cont['id'] for cont in AllCont if i==cont['donor_name']])\n",
    "\n"
   ]
  },
  {
   "cell_type": "code",
   "execution_count": null,
   "metadata": {},
   "outputs": [],
   "source": [
    "donor_list={}\n",
    "for i in unique_list:\n",
    "    donor_conts=[cont['id'] for cont in AllCont if i==cont['donor_name']]\n",
    "    donor_list[i]=donor_conts\n",
    "donor_list"
   ]
  }
 ],
 "metadata": {
  "kernelspec": {
   "display_name": "Python 3",
   "language": "python",
   "name": "python3"
  },
  "language_info": {
   "codemirror_mode": {
    "name": "ipython",
    "version": 3
   },
   "file_extension": ".py",
   "mimetype": "text/x-python",
   "name": "python",
   "nbconvert_exporter": "python",
   "pygments_lexer": "ipython3",
   "version": "3.8.8"
  }
 },
 "nbformat": 4,
 "nbformat_minor": 4
}
