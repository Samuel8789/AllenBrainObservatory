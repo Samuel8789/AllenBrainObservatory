{
 "cells": [
  {
   "cell_type": "code",
   "execution_count": 1,
   "id": "8516e6ba",
   "metadata": {},
   "outputs": [],
   "source": [
    "from allensdk.core.brain_observatory_cache import BrainObservatoryCache\n",
    "import pprint\n",
    "import os\n",
    "import pandas as pd\n",
    "from collections import Counter\n",
    "import matplotlib.pyplot as plt\n",
    "import numpy as np\n",
    "import scipy.io\n",
    "from PathStructure import PathStructure\n",
    "\n",
    "\n",
    "ProjectCodePath, ProjectName, ProjectDataPath, ProjectRAWPath, ProjectTempRAWPath =PathStructure()\n",
    "boc = BrainObservatoryCache(manifest_file=ProjectDataPath+'/boc/manifest.json')\n",
    "#os.makedirs(ProjectRAWPath+'/RAWMovies')\n",
    "\n",
    "dirlist = []\n",
    "\n",
    "for (root,dirs,files) in os.walk(ProjectDataPath, topdown=True):\n",
    "    dirlist += dirs\n",
    "\n",
    "#%%    \n",
    "SelectedCreLine='Vip-IRES-Cre'\n",
    "SelectedStructure='VISp'\n",
    "SelectedDepth=275\n",
    "SelectedSession='three_session_C'\n"
   ]
  },
  {
   "cell_type": "code",
   "execution_count": 2,
   "id": "b1d4c30c",
   "metadata": {},
   "outputs": [],
   "source": [
    "SelectedDataDir=ProjectDataPath+'\\\\'+SelectedCreLine+'\\\\'+SelectedStructure+'\\\\'+str(SelectedDepth)+'\\\\'+SelectedSession\n",
    "filelist=[]\n",
    "for (root,dirs,files) in os.walk(SelectedDataDir, topdown=True):\n",
    "    filelist += files \n",
    "i=0\n",
    "j=0\n",
    "while i<len(filelist):\n",
    "    if 'events' in filelist[i]:\n",
    "        filelist.pop(i)\n",
    "    else:\n",
    "        i+=1\n",
    "while j<len(filelist):\n",
    "    if 'mat' in filelist[j]:\n",
    "        filelist.pop(j)\n",
    "        filelist.pop(j-1)\n",
    "    else:\n",
    "        j+=1        \n",
    "    \n",
    "    \n",
    "SelectedExpIDs2 = list(map(int, filelist))\n",
    "\n",
    "\n",
    "SelectedExperiments=boc.get_ophys_experiments(targeted_structures=[SelectedStructure], imaging_depths=[SelectedDepth], cre_lines=[SelectedCreLine], session_types=[SelectedSession])\n",
    "SelectedContainers = [sub['experiment_container_id']  for sub in SelectedExperiments]\n",
    "SelectedExpIDs = [sub['id']  for sub in SelectedExperiments] \n",
    "\n",
    "NWBexpFiles={}\n",
    "EventsFiles={}\n",
    "\n",
    "for i in range(0, len(SelectedExpIDs):\n",
    "    FullSelectedDataDir=ProjectDataPath+'\\\\'+SelectedCreLine+'\\\\'+SelectedStructure+'\\\\'+str(SelectedDepth)+'\\\\'+SelectedSession+'\\\\ContID_'+str(SelectedContainers[i])+'_ExpID_'+str(SelectedExpIDs[i])\n",
    "    NWBexpFiles[\"NWB{0}\".format(SelectedExpIDs[i])] = boc.get_ophys_experiment_data(SelectedExpIDs[i],  FullSelectedDataDir+'\\\\'+str(SelectedExpIDs[i]))\n",
    "    EventsFiles[\"Events{0}\".format(SelectedExpIDs[i])] = boc.get_ophys_experiment_events(SelectedExpIDs[i],  FullSelectedDataDir+'\\\\'+str(SelectedExpIDs[i])+'events')\n",
    "\n"
   ]
  },
  {
   "cell_type": "code",
   "execution_count": 3,
   "id": "a556f782",
   "metadata": {},
   "outputs": [
    {
     "name": "stdout",
     "output_type": "stream",
     "text": [
      "[]\n"
     ]
    }
   ],
   "source": [
    "print(SelectedExperiments)"
   ]
  },
  {
   "cell_type": "code",
   "execution_count": null,
   "id": "5ff111a5",
   "metadata": {},
   "outputs": [],
   "source": []
  }
 ],
 "metadata": {
  "kernelspec": {
   "display_name": "Python 3 (ipykernel)",
   "language": "python",
   "name": "python3"
  },
  "language_info": {
   "codemirror_mode": {
    "name": "ipython",
    "version": 3
   },
   "file_extension": ".py",
   "mimetype": "text/x-python",
   "name": "python",
   "nbconvert_exporter": "python",
   "pygments_lexer": "ipython3",
   "version": "3.9.7"
  }
 },
 "nbformat": 4,
 "nbformat_minor": 5
}
